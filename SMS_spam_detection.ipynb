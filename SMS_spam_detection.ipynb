{
 "cells": [
  {
   "cell_type": "code",
   "execution_count": 99,
   "metadata": {},
   "outputs": [],
   "source": [
    "# import libraries\n",
    "\n",
    "# general\n",
    "import pandas as pd\n",
    "import numpy as np\n",
    "import matplotlib.pyplot as plt\n",
    "%matplotlib inline\n",
    "\n",
    "# cleaning\n",
    "from sklearn.model_selection import train_test_split, StratifiedShuffleSplit\n",
    "\n",
    "# exploration\n",
    "from collections import Counter\n",
    "from wordcloud import WordCloud\n",
    "from scipy.stats import levene, ttest_ind\n",
    "\n",
    "# modeling\n",
    "from nltk import word_tokenize\n",
    "from sklearn.feature_extraction.text import TfidfVectorizer, CountVectorizer\n",
    "from sklearn.linear_model import LogisticRegression\n",
    "from sklearn.svm import SVC\n",
    "from sklearn.tree import DecisionTreeClassifier\n",
    "from sklearn.ensemble import RandomForestClassifier\n",
    "from sklearn.neighbors import KNeighborsClassifier\n",
    "from sklearn.model_selection import GridSearchCV, cross_validate\n",
    "from sklearn.metrics import f1_score, precision_score, recall_score"
   ]
  },
  {
   "cell_type": "markdown",
   "metadata": {},
   "source": [
    "# 1.1 Data Cleaning: Load Data"
   ]
  },
  {
   "cell_type": "code",
   "execution_count": 100,
   "metadata": {},
   "outputs": [
    {
     "data": {
      "text/html": [
       "<div>\n",
       "<style scoped>\n",
       "    .dataframe tbody tr th:only-of-type {\n",
       "        vertical-align: middle;\n",
       "    }\n",
       "\n",
       "    .dataframe tbody tr th {\n",
       "        vertical-align: top;\n",
       "    }\n",
       "\n",
       "    .dataframe thead th {\n",
       "        text-align: right;\n",
       "    }\n",
       "</style>\n",
       "<table border=\"1\" class=\"dataframe\">\n",
       "  <thead>\n",
       "    <tr style=\"text-align: right;\">\n",
       "      <th></th>\n",
       "      <th>v1</th>\n",
       "      <th>v2</th>\n",
       "      <th>Unnamed: 2</th>\n",
       "      <th>Unnamed: 3</th>\n",
       "      <th>Unnamed: 4</th>\n",
       "    </tr>\n",
       "  </thead>\n",
       "  <tbody>\n",
       "    <tr>\n",
       "      <th>0</th>\n",
       "      <td>ham</td>\n",
       "      <td>Go until jurong point, crazy.. Available only ...</td>\n",
       "      <td>NaN</td>\n",
       "      <td>NaN</td>\n",
       "      <td>NaN</td>\n",
       "    </tr>\n",
       "    <tr>\n",
       "      <th>1</th>\n",
       "      <td>ham</td>\n",
       "      <td>Ok lar... Joking wif u oni...</td>\n",
       "      <td>NaN</td>\n",
       "      <td>NaN</td>\n",
       "      <td>NaN</td>\n",
       "    </tr>\n",
       "    <tr>\n",
       "      <th>2</th>\n",
       "      <td>spam</td>\n",
       "      <td>Free entry in 2 a wkly comp to win FA Cup fina...</td>\n",
       "      <td>NaN</td>\n",
       "      <td>NaN</td>\n",
       "      <td>NaN</td>\n",
       "    </tr>\n",
       "    <tr>\n",
       "      <th>3</th>\n",
       "      <td>ham</td>\n",
       "      <td>U dun say so early hor... U c already then say...</td>\n",
       "      <td>NaN</td>\n",
       "      <td>NaN</td>\n",
       "      <td>NaN</td>\n",
       "    </tr>\n",
       "    <tr>\n",
       "      <th>4</th>\n",
       "      <td>ham</td>\n",
       "      <td>Nah I don't think he goes to usf, he lives aro...</td>\n",
       "      <td>NaN</td>\n",
       "      <td>NaN</td>\n",
       "      <td>NaN</td>\n",
       "    </tr>\n",
       "  </tbody>\n",
       "</table>\n",
       "</div>"
      ],
      "text/plain": [
       "     v1                                                 v2 Unnamed: 2  \\\n",
       "0   ham  Go until jurong point, crazy.. Available only ...        NaN   \n",
       "1   ham                      Ok lar... Joking wif u oni...        NaN   \n",
       "2  spam  Free entry in 2 a wkly comp to win FA Cup fina...        NaN   \n",
       "3   ham  U dun say so early hor... U c already then say...        NaN   \n",
       "4   ham  Nah I don't think he goes to usf, he lives aro...        NaN   \n",
       "\n",
       "  Unnamed: 3 Unnamed: 4  \n",
       "0        NaN        NaN  \n",
       "1        NaN        NaN  \n",
       "2        NaN        NaN  \n",
       "3        NaN        NaN  \n",
       "4        NaN        NaN  "
      ]
     },
     "execution_count": 100,
     "metadata": {},
     "output_type": "execute_result"
    }
   ],
   "source": [
    "# load spam.csv into dataframe\n",
    "spam = pd.read_csv(\"spam.csv\", encoding=\"latin-1\")\n",
    "spam.head()"
   ]
  },
  {
   "cell_type": "code",
   "execution_count": 101,
   "metadata": {},
   "outputs": [
    {
     "data": {
      "text/html": [
       "<div>\n",
       "<style scoped>\n",
       "    .dataframe tbody tr th:only-of-type {\n",
       "        vertical-align: middle;\n",
       "    }\n",
       "\n",
       "    .dataframe tbody tr th {\n",
       "        vertical-align: top;\n",
       "    }\n",
       "\n",
       "    .dataframe thead th {\n",
       "        text-align: right;\n",
       "    }\n",
       "</style>\n",
       "<table border=\"1\" class=\"dataframe\">\n",
       "  <thead>\n",
       "    <tr style=\"text-align: right;\">\n",
       "      <th></th>\n",
       "      <th>target</th>\n",
       "      <th>text</th>\n",
       "    </tr>\n",
       "  </thead>\n",
       "  <tbody>\n",
       "    <tr>\n",
       "      <th>0</th>\n",
       "      <td>ham</td>\n",
       "      <td>Go until jurong point, crazy.. Available only ...</td>\n",
       "    </tr>\n",
       "    <tr>\n",
       "      <th>1</th>\n",
       "      <td>ham</td>\n",
       "      <td>Ok lar... Joking wif u oni...</td>\n",
       "    </tr>\n",
       "    <tr>\n",
       "      <th>2</th>\n",
       "      <td>spam</td>\n",
       "      <td>Free entry in 2 a wkly comp to win FA Cup fina...</td>\n",
       "    </tr>\n",
       "    <tr>\n",
       "      <th>3</th>\n",
       "      <td>ham</td>\n",
       "      <td>U dun say so early hor... U c already then say...</td>\n",
       "    </tr>\n",
       "    <tr>\n",
       "      <th>4</th>\n",
       "      <td>ham</td>\n",
       "      <td>Nah I don't think he goes to usf, he lives aro...</td>\n",
       "    </tr>\n",
       "  </tbody>\n",
       "</table>\n",
       "</div>"
      ],
      "text/plain": [
       "  target                                               text\n",
       "0    ham  Go until jurong point, crazy.. Available only ...\n",
       "1    ham                      Ok lar... Joking wif u oni...\n",
       "2   spam  Free entry in 2 a wkly comp to win FA Cup fina...\n",
       "3    ham  U dun say so early hor... U c already then say...\n",
       "4    ham  Nah I don't think he goes to usf, he lives aro..."
      ]
     },
     "execution_count": 101,
     "metadata": {},
     "output_type": "execute_result"
    }
   ],
   "source": [
    "# drop empty columns and rename v1 and v2\n",
    "spam[\"target\"] = spam.v1\n",
    "spam[\"text\"] = spam.v2\n",
    "\n",
    "for col in spam.columns:\n",
    "    if (col != \"target\") & (col != \"text\"):\n",
    "        spam.drop(col, axis=1, inplace=True)\n",
    "        \n",
    "spam.head()"
   ]
  },
  {
   "cell_type": "markdown",
   "metadata": {},
   "source": [
    "# 1.2 See if classes are balanced"
   ]
  },
  {
   "cell_type": "code",
   "execution_count": 102,
   "metadata": {},
   "outputs": [
    {
     "data": {
      "image/png": "[encoded data removed]",
      "text/plain": [
       "<Figure size 1080x360 with 1 Axes>"
      ]
     },
     "metadata": {
      "needs_background": "light"
     },
     "output_type": "display_data"
    }
   ],
   "source": [
    "# get value counts\n",
    "value_counts = dict(spam.target.value_counts())\n",
    "\n",
    "# plot class distribution\n",
    "plt.figure(figsize=(15, 5))\n",
    "plt.bar([\"spam\", \"ham\"], [value_counts[\"spam\"], value_counts[\"ham\"]])\n",
    "plt.title(\"distribution of classes\")\n",
    "plt.show()"
   ]
  },
  {
   "cell_type": "markdown",
   "metadata": {},
   "source": [
    "Most of the data is ham. So I will use a stratified split"
   ]
  },
  {
   "cell_type": "markdown",
   "metadata": {},
   "source": [
    "# 1.3 Train / Test Split"
   ]
  },
  {
   "cell_type": "code",
   "execution_count": 103,
   "metadata": {},
   "outputs": [
    {
     "data": {
      "text/plain": [
       "(4457, 1115)"
      ]
     },
     "execution_count": 103,
     "metadata": {},
     "output_type": "execute_result"
    }
   ],
   "source": [
    "# stratified split\n",
    "sss = StratifiedShuffleSplit(test_size = 0.2, random_state=42)\n",
    "train_index, test_index = next(sss.split(spam.text, spam.target))\n",
    "\n",
    "len(train_index), len(test_index)"
   ]
  },
  {
   "cell_type": "code",
   "execution_count": 104,
   "metadata": {},
   "outputs": [],
   "source": [
    "# use indices to split the data\n",
    "train = spam.iloc[train_index]\n",
    "test = spam.iloc[test_index]"
   ]
  },
  {
   "cell_type": "code",
   "execution_count": 105,
   "metadata": {},
   "outputs": [
    {
     "name": "stdout",
     "output_type": "stream",
     "text": [
      "ham     0.865829\n",
      "spam    0.134171\n",
      "Name: target, dtype: float64\n",
      "ham     0.866368\n",
      "spam    0.133632\n",
      "Name: target, dtype: float64\n"
     ]
    }
   ],
   "source": [
    "# check value counts to ensure a quality split\n",
    "print(train.target.value_counts(normalize=True))\n",
    "print(test.target.value_counts(normalize=True))"
   ]
  },
  {
   "cell_type": "markdown",
   "metadata": {},
   "source": [
    "# 1.4 Check for duplicate values"
   ]
  },
  {
   "cell_type": "markdown",
   "metadata": {},
   "source": [
    "From this point on I am only inspecting the training set. However I will apply changes to both sets as needed. "
   ]
  },
  {
   "cell_type": "code",
   "execution_count": 106,
   "metadata": {},
   "outputs": [
    {
     "data": {
      "text/plain": [
       "265"
      ]
     },
     "execution_count": 106,
     "metadata": {},
     "output_type": "execute_result"
    }
   ],
   "source": [
    "train.duplicated().sum()"
   ]
  },
  {
   "cell_type": "code",
   "execution_count": 107,
   "metadata": {},
   "outputs": [],
   "source": [
    "# drop duplicates from both train and test sets\n",
    "\n",
    "train = train.drop_duplicates()\n",
    "test = test.drop_duplicates()"
   ]
  },
  {
   "cell_type": "markdown",
   "metadata": {},
   "source": [
    "# 2.1 Exploratory Data Analysis: Checking Top Words"
   ]
  },
  {
   "cell_type": "markdown",
   "metadata": {},
   "source": [
    "Now I will which words have the highest count value in spam and ham messages. "
   ]
  },
  {
   "cell_type": "code",
   "execution_count": 108,
   "metadata": {
    "scrolled": true
   },
   "outputs": [
    {
     "data": {
      "image/png": "[encoded data removed]",
      "text/plain": [
       "<Figure size 432x288 with 1 Axes>"
      ]
     },
     "metadata": {
      "needs_background": "light"
     },
     "output_type": "display_data"
    },
    {
     "name": "stdout",
     "output_type": "stream",
     "text": [
      "\n",
      "\n",
      "\n",
      "\n"
     ]
    },
    {
     "data": {
      "image/png": "[encoded data removed]",
      "text/plain": [
       "<Figure size 432x288 with 1 Axes>"
      ]
     },
     "metadata": {
      "needs_background": "light"
     },
     "output_type": "display_data"
    }
   ],
   "source": [
    "# seperate ham from spam\n",
    "spam = train[train.target == \"spam\"].text\n",
    "ham = train[train.target == \"ham\"].text\n",
    "\n",
    "# function for wordclouds\n",
    "def to_wordcloud(articles, title):\n",
    "    \n",
    "    string_of_words = \" \".join(articles)\n",
    "    string_of_words = string_of_words.lower()\n",
    "    \n",
    "    wc = WordCloud(width = 3000, height = 2000)\n",
    "    \n",
    "    plt.imshow(wc.generate(string_of_words), interpolation=\"bilinear\")\n",
    "    plt.title(title)\n",
    "    plt.tight_layout(pad=0)\n",
    "    plt.show()\n",
    "    \n",
    "    \n",
    "# word clouds   \n",
    "to_wordcloud(spam, \"spam\")\n",
    "\n",
    "print(\"\\n\\n\\n\")\n",
    "\n",
    "to_wordcloud(ham, \"ham\")"
   ]
  },
  {
   "cell_type": "code",
   "execution_count": 109,
   "metadata": {
    "scrolled": true
   },
   "outputs": [
    {
     "data": {
      "image/png": "[encoded data removed]",
      "text/plain": [
       "<Figure size 1080x360 with 1 Axes>"
      ]
     },
     "metadata": {
      "needs_background": "light"
     },
     "output_type": "display_data"
    },
    {
     "name": "stdout",
     "output_type": "stream",
     "text": [
      "\n",
      "\n",
      "\n",
      "\n"
     ]
    },
    {
     "data": {
      "image/png": "[encoded data removed]",
      "text/plain": [
       "<Figure size 1080x360 with 1 Axes>"
      ]
     },
     "metadata": {
      "needs_background": "light"
     },
     "output_type": "display_data"
    }
   ],
   "source": [
    "# function for bar graphs\n",
    "def plot_word_count(articles, title):\n",
    "    \n",
    "    string_of_words = \" \".join(articles)\n",
    "    string_of_words = string_of_words.lower()\n",
    "    collection = string_of_words.split(\" \")\n",
    "    \n",
    "    cnt = Counter(collection)\n",
    "    words = [i[0] for i in cnt.most_common(20)]\n",
    "    counts = [i[1] for i in cnt.most_common(20)]\n",
    "    \n",
    "    plt.figure(figsize=(15, 5))\n",
    "    plt.bar(words, counts)\n",
    "    plt.title(title)\n",
    "    plt.xticks(rotation=45)\n",
    "    plt.show()\n",
    "    \n",
    "# bar grapgs\n",
    "plot_word_count(spam, \"spam\")\n",
    "\n",
    "print(\"\\n\\n\\n\")\n",
    "\n",
    "plot_word_count(ham, \"ham\")"
   ]
  },
  {
   "cell_type": "markdown",
   "metadata": {},
   "source": [
    "We can see that the words \"you\" and \"call\" are high in both. Spam has more of the words \"txt\" and \"reply\". Ham is distinguished by the word \"I\"."
   ]
  },
  {
   "cell_type": "markdown",
   "metadata": {},
   "source": [
    "# 2.2 Explore length as a factor."
   ]
  },
  {
   "cell_type": "markdown",
   "metadata": {},
   "source": [
    "Now I will create a new feature \"len\" that measures the length of the message. I will check to see how the length of the message correlates with the class (spam or ham). Also, I will now one-hot-encode the target variable."
   ]
  },
  {
   "cell_type": "code",
   "execution_count": 110,
   "metadata": {},
   "outputs": [],
   "source": [
    "# one hot encode target\n",
    "\n",
    "#train\n",
    "ohe_target_train = train.target.map(lambda x: 0 if x==\"spam\" else 1)\n",
    "train.drop(\"target\", axis=1, inplace=True)\n",
    "train[\"target\"] = ohe_target_train\n",
    "\n",
    "#test\n",
    "ohe_target_test = test.target.map(lambda x: 0 if x==\"spam\" else 1)\n",
    "test.drop(\"target\", axis=1, inplace=True)\n",
    "test[\"target\"] = ohe_target_test"
   ]
  },
  {
   "cell_type": "code",
   "execution_count": 111,
   "metadata": {},
   "outputs": [
    {
     "data": {
      "text/html": [
       "<div>\n",
       "<style scoped>\n",
       "    .dataframe tbody tr th:only-of-type {\n",
       "        vertical-align: middle;\n",
       "    }\n",
       "\n",
       "    .dataframe tbody tr th {\n",
       "        vertical-align: top;\n",
       "    }\n",
       "\n",
       "    .dataframe thead th {\n",
       "        text-align: right;\n",
       "    }\n",
       "</style>\n",
       "<table border=\"1\" class=\"dataframe\">\n",
       "  <thead>\n",
       "    <tr style=\"text-align: right;\">\n",
       "      <th></th>\n",
       "      <th>text</th>\n",
       "      <th>target</th>\n",
       "      <th>len</th>\n",
       "    </tr>\n",
       "  </thead>\n",
       "  <tbody>\n",
       "    <tr>\n",
       "      <th>184</th>\n",
       "      <td>Going on nothing great.bye</td>\n",
       "      <td>1</td>\n",
       "      <td>26</td>\n",
       "    </tr>\n",
       "    <tr>\n",
       "      <th>2171</th>\n",
       "      <td>I wont. So wat's wit the guys</td>\n",
       "      <td>1</td>\n",
       "      <td>29</td>\n",
       "    </tr>\n",
       "    <tr>\n",
       "      <th>5422</th>\n",
       "      <td>Ok k..sry i knw 2 siva..tats y i askd..</td>\n",
       "      <td>1</td>\n",
       "      <td>39</td>\n",
       "    </tr>\n",
       "    <tr>\n",
       "      <th>4113</th>\n",
       "      <td>Where are you ? What do you do ? How can you s...</td>\n",
       "      <td>1</td>\n",
       "      <td>154</td>\n",
       "    </tr>\n",
       "    <tr>\n",
       "      <th>4588</th>\n",
       "      <td>Have you not finished work yet or something?</td>\n",
       "      <td>1</td>\n",
       "      <td>44</td>\n",
       "    </tr>\n",
       "  </tbody>\n",
       "</table>\n",
       "</div>"
      ],
      "text/plain": [
       "                                                   text  target  len\n",
       "184                          Going on nothing great.bye       1   26\n",
       "2171                      I wont. So wat's wit the guys       1   29\n",
       "5422            Ok k..sry i knw 2 siva..tats y i askd..       1   39\n",
       "4113  Where are you ? What do you do ? How can you s...       1  154\n",
       "4588       Have you not finished work yet or something?       1   44"
      ]
     },
     "execution_count": 111,
     "metadata": {},
     "output_type": "execute_result"
    }
   ],
   "source": [
    "# create \"len\" feature\n",
    "train[\"len\"] = train[\"text\"].map(len)\n",
    "train.head()"
   ]
  },
  {
   "cell_type": "code",
   "execution_count": 112,
   "metadata": {},
   "outputs": [
    {
     "data": {
      "text/html": [
       "<div>\n",
       "<style scoped>\n",
       "    .dataframe tbody tr th:only-of-type {\n",
       "        vertical-align: middle;\n",
       "    }\n",
       "\n",
       "    .dataframe tbody tr th {\n",
       "        vertical-align: top;\n",
       "    }\n",
       "\n",
       "    .dataframe thead th {\n",
       "        text-align: right;\n",
       "    }\n",
       "</style>\n",
       "<table border=\"1\" class=\"dataframe\">\n",
       "  <thead>\n",
       "    <tr style=\"text-align: right;\">\n",
       "      <th></th>\n",
       "      <th>target</th>\n",
       "      <th>len</th>\n",
       "    </tr>\n",
       "  </thead>\n",
       "  <tbody>\n",
       "    <tr>\n",
       "      <th>target</th>\n",
       "      <td>1.0000</td>\n",
       "      <td>-0.3824</td>\n",
       "    </tr>\n",
       "    <tr>\n",
       "      <th>len</th>\n",
       "      <td>-0.3824</td>\n",
       "      <td>1.0000</td>\n",
       "    </tr>\n",
       "  </tbody>\n",
       "</table>\n",
       "</div>"
      ],
      "text/plain": [
       "        target     len\n",
       "target  1.0000 -0.3824\n",
       "len    -0.3824  1.0000"
      ]
     },
     "execution_count": 112,
     "metadata": {},
     "output_type": "execute_result"
    }
   ],
   "source": [
    "# test correlation\n",
    "train.corr()"
   ]
  },
  {
   "cell_type": "markdown",
   "metadata": {},
   "source": [
    "The correlation isn't too high. I will now use a t-test to see if there is a statistcally significant difference in length between spam and ham messages. To decide which t-test to use I will use a levene test to examine the difference in variances. For the levene test the null hypothesis will be that the variances are the same, and the alternative hypothesis will be that they are different. The alpha value will be 0.05"
   ]
  },
  {
   "cell_type": "code",
   "execution_count": 113,
   "metadata": {},
   "outputs": [
    {
     "data": {
      "text/plain": [
       "LeveneResult(statistic=3780.649897608388, pvalue=0.0)"
      ]
     },
     "execution_count": 113,
     "metadata": {},
     "output_type": "execute_result"
    }
   ],
   "source": [
    "# leven test\n",
    "levene(train.target, train[\"len\"])"
   ]
  },
  {
   "cell_type": "markdown",
   "metadata": {},
   "source": [
    "The p-value is below 0.05 so we can reject the null hypothesis and assume the variances are significantly different. So now I will use a welch's t-test. The null hypothesis will be that the length of the message does not vary significantly between spam and ham messages. The alternative hypothesis will be that the length of the message varies significantly between spam and ham messages. The alpha value will be 0.05"
   ]
  },
  {
   "cell_type": "code",
   "execution_count": 114,
   "metadata": {},
   "outputs": [
    {
     "data": {
      "text/plain": [
       "Ttest_indResult(statistic=-42.27182480244643, pvalue=4.1600411376224655e-241)"
      ]
     },
     "execution_count": 114,
     "metadata": {},
     "output_type": "execute_result"
    }
   ],
   "source": [
    "ttest_ind(train[train.target == 1][\"len\"], train[train.target == 0][\"len\"], equal_var=False)"
   ]
  },
  {
   "cell_type": "markdown",
   "metadata": {},
   "source": [
    "The p-value is above 0.05, so we can say there is no significant difference between the lengths of spam and ham messages. This means that I should not use length as a feature in my model. I will now remove the \"len\" column"
   ]
  },
  {
   "cell_type": "code",
   "execution_count": 115,
   "metadata": {},
   "outputs": [
    {
     "data": {
      "text/html": [
       "<div>\n",
       "<style scoped>\n",
       "    .dataframe tbody tr th:only-of-type {\n",
       "        vertical-align: middle;\n",
       "    }\n",
       "\n",
       "    .dataframe tbody tr th {\n",
       "        vertical-align: top;\n",
       "    }\n",
       "\n",
       "    .dataframe thead th {\n",
       "        text-align: right;\n",
       "    }\n",
       "</style>\n",
       "<table border=\"1\" class=\"dataframe\">\n",
       "  <thead>\n",
       "    <tr style=\"text-align: right;\">\n",
       "      <th></th>\n",
       "      <th>text</th>\n",
       "      <th>target</th>\n",
       "    </tr>\n",
       "  </thead>\n",
       "  <tbody>\n",
       "    <tr>\n",
       "      <th>184</th>\n",
       "      <td>Going on nothing great.bye</td>\n",
       "      <td>1</td>\n",
       "    </tr>\n",
       "    <tr>\n",
       "      <th>2171</th>\n",
       "      <td>I wont. So wat's wit the guys</td>\n",
       "      <td>1</td>\n",
       "    </tr>\n",
       "    <tr>\n",
       "      <th>5422</th>\n",
       "      <td>Ok k..sry i knw 2 siva..tats y i askd..</td>\n",
       "      <td>1</td>\n",
       "    </tr>\n",
       "    <tr>\n",
       "      <th>4113</th>\n",
       "      <td>Where are you ? What do you do ? How can you s...</td>\n",
       "      <td>1</td>\n",
       "    </tr>\n",
       "    <tr>\n",
       "      <th>4588</th>\n",
       "      <td>Have you not finished work yet or something?</td>\n",
       "      <td>1</td>\n",
       "    </tr>\n",
       "  </tbody>\n",
       "</table>\n",
       "</div>"
      ],
      "text/plain": [
       "                                                   text  target\n",
       "184                          Going on nothing great.bye       1\n",
       "2171                      I wont. So wat's wit the guys       1\n",
       "5422            Ok k..sry i knw 2 siva..tats y i askd..       1\n",
       "4113  Where are you ? What do you do ? How can you s...       1\n",
       "4588       Have you not finished work yet or something?       1"
      ]
     },
     "execution_count": 115,
     "metadata": {},
     "output_type": "execute_result"
    }
   ],
   "source": [
    "# drop len column\n",
    "train.drop(\"len\", axis=1, inplace=True)\n",
    "train.head()"
   ]
  },
  {
   "cell_type": "markdown",
   "metadata": {},
   "source": [
    "# 3.1 Modeling: Preprocessing"
   ]
  },
  {
   "cell_type": "markdown",
   "metadata": {},
   "source": [
    "In the modeling stage of this project I will try out several machine learning models to see which performs the best on the training set. I will be using cross validation to get an estimate of performance. To turn the text into a numerical data type I will be using tf-idf. This stands for term frequency / inter-document frequency. Tf-idf is essentially a measure of how much a word is correlated to a class. I will be using a grid search to tune the hyper-paramaters. The models I will test are: logistic regression, support-vector-machine, decision-tree, random-forest, and K-nearest-neighbors. I will be using f1-score, precision, and recall as the performance metrics, with recall being more important, because it is better to have spam leak through than to have important messages blocked as spam."
   ]
  },
  {
   "cell_type": "code",
   "execution_count": 117,
   "metadata": {},
   "outputs": [],
   "source": [
    "# preprocess data into td-idf matrices\n",
    "\n",
    "# split X and y\n",
    "X_train, y_train = train.text, train.target\n",
    "X_test, y_test = test.text, test.target\n",
    "\n",
    "# td-idf vectorize\n",
    "vectorizer = TfidfVectorizer(tokenizer=word_tokenize)\n",
    "X_train = vectorizer.fit_transform(X_train)\n",
    "X_test = vectorizer.transform(X_test)"
   ]
  },
  {
   "cell_type": "markdown",
   "metadata": {},
   "source": [
    "# 3.2 Logistic Regression"
   ]
  },
  {
   "cell_type": "markdown",
   "metadata": {},
   "source": [
    "Now I will go through the modeling process using Logistic Regression. First I will look at the baseline results."
   ]
  },
  {
   "cell_type": "code",
   "execution_count": 118,
   "metadata": {},
   "outputs": [
    {
     "name": "stderr",
     "output_type": "stream",
     "text": [
      "C:\\Users\\zasz\\Anaconda3\\lib\\site-packages\\sklearn\\linear_model\\logistic.py:432: FutureWarning: Default solver will be changed to 'lbfgs' in 0.22. Specify a solver to silence this warning.\n",
      "  FutureWarning)\n"
     ]
    },
    {
     "data": {
      "text/plain": [
       "{'fit_time': array([0.01097083, 0.00898337, 0.00897264, 0.00797915, 0.00799537]),\n",
       " 'score_time': array([0.00299191, 0.00196099, 0.00199342, 0.00299835, 0.00199676]),\n",
       " 'test_f1': array([0.97991968, 0.97531688, 0.97658863, 0.97398266, 0.97142857]),\n",
       " 'train_f1': array([0.98335295, 0.98319328, 0.98368377, 0.98385469, 0.98302806]),\n",
       " 'test_precision': array([0.96062992, 0.95182292, 0.95549738, 0.95052083, 0.94444444]),\n",
       " 'train_precision': array([0.96725108, 0.96694215, 0.96821192, 0.96822244, 0.9666226 ]),\n",
       " 'test_recall': array([1.        , 1.        , 0.99863201, 0.99863201, 1.        ]),\n",
       " 'train_recall': array([1.        , 1.        , 0.99965812, 1.        , 1.        ])}"
      ]
     },
     "execution_count": 118,
     "metadata": {},
     "output_type": "execute_result"
    }
   ],
   "source": [
    "# save model\n",
    "clf = LogisticRegression()\n",
    "\n",
    "# create a function to print scores\n",
    "def scores(y_true, y_hat):\n",
    "    \n",
    "    print(\"f1\", f1_score(y_true, y_hat))\n",
    "    print(\"precision\", precision_score(y_true, y_hat))\n",
    "    print(\"recall\", recall_score(y_true, y_hat))\n",
    "    return None\n",
    "\n",
    "# find baseline results\n",
    "baseline = cross_validate(clf, X_train, y_train, cv=5, return_train_score=True, scoring=[\"f1\", \"precision\", \"recall\"])\n",
    "baseline"
   ]
  },
  {
   "cell_type": "markdown",
   "metadata": {},
   "source": [
    "It seems the precision score is excellent on the baseline logistic regression model. I will experiment with the hyperparameters to see if I can increase the recall."
   ]
  },
  {
   "cell_type": "code",
   "execution_count": 119,
   "metadata": {
    "scrolled": true
   },
   "outputs": [
    {
     "name": "stderr",
     "output_type": "stream",
     "text": [
      "C:\\Users\\zasz\\Anaconda3\\lib\\site-packages\\sklearn\\linear_model\\logistic.py:432: FutureWarning: Default solver will be changed to 'lbfgs' in 0.22. Specify a solver to silence this warning.\n",
      "  FutureWarning)\n"
     ]
    },
    {
     "data": {
      "text/plain": [
       "GridSearchCV(cv=5, error_score='raise-deprecating',\n",
       "             estimator=LogisticRegression(C=1.0, class_weight=None, dual=False,\n",
       "                                          fit_intercept=True,\n",
       "                                          intercept_scaling=1, l1_ratio=None,\n",
       "                                          max_iter=100, multi_class='warn',\n",
       "                                          n_jobs=None, penalty='l2',\n",
       "                                          random_state=None, solver='warn',\n",
       "                                          tol=0.0001, verbose=0,\n",
       "                                          warm_start=False),\n",
       "             iid='warn', n_jobs=None,\n",
       "             param_grid={'C': [0.01, 0.1, 0.5, 1, 5, 10]},\n",
       "             pre_dispatch='2*n_jobs', refit=True, return_train_score=True,\n",
       "             scoring='f1', verbose=0)"
      ]
     },
     "execution_count": 119,
     "metadata": {},
     "output_type": "execute_result"
    }
   ],
   "source": [
    "# hyper parameter tuning\n",
    "\n",
    "params = {\"C\":[0.01, 0.1, 0.5, 1, 5, 10]}\n",
    "gs = GridSearchCV(clf, params, cv=5, return_train_score=True, scoring=\"f1\")\n",
    "gs.fit(X_train, y_train)"
   ]
  },
  {
   "cell_type": "code",
   "execution_count": 120,
   "metadata": {},
   "outputs": [
    {
     "data": {
      "text/plain": [
       "{'C': 10}"
      ]
     },
     "execution_count": 120,
     "metadata": {},
     "output_type": "execute_result"
    }
   ],
   "source": [
    "# check new parameters\n",
    "gs.best_params_"
   ]
  },
  {
   "cell_type": "code",
   "execution_count": 121,
   "metadata": {
    "scrolled": true
   },
   "outputs": [
    {
     "name": "stderr",
     "output_type": "stream",
     "text": [
      "C:\\Users\\zasz\\Anaconda3\\lib\\site-packages\\sklearn\\linear_model\\logistic.py:432: FutureWarning: Default solver will be changed to 'lbfgs' in 0.22. Specify a solver to silence this warning.\n",
      "  FutureWarning)\n"
     ]
    },
    {
     "data": {
      "text/plain": [
       "{'fit_time': array([0.01396179, 0.01196766, 0.01097083, 0.00897574, 0.00897336]),\n",
       " 'score_time': array([0.0039947 , 0.00299239, 0.00302553, 0.00299072, 0.00199413]),\n",
       " 'test_f1': array([0.98852127, 0.98650472, 0.98578199, 0.98583951, 0.98384926]),\n",
       " 'train_f1': array([0.99880444, 0.99880485, 0.99829352, 0.99863435, 0.99880485]),\n",
       " 'test_precision': array([0.97730307, 0.97336884, 0.97587131, 0.97207447, 0.96821192]),\n",
       " 'train_precision': array([0.99761174, 0.99761255, 0.99659284, 0.99727242, 0.99761255]),\n",
       " 'test_recall': array([1.        , 1.        , 0.99589603, 1.        , 1.        ]),\n",
       " 'train_recall': array([1., 1., 1., 1., 1.])}"
      ]
     },
     "execution_count": 121,
     "metadata": {},
     "output_type": "execute_result"
    }
   ],
   "source": [
    "# measure new scores\n",
    "tuned = cross_validate(gs.best_estimator_, X_train, y_train, cv=5, return_train_score=True, scoring=[\"f1\", \"precision\", \"recall\"])\n",
    "tuned"
   ]
  },
  {
   "cell_type": "markdown",
   "metadata": {},
   "source": [
    "The model seems to do even better."
   ]
  },
  {
   "cell_type": "code",
   "execution_count": 122,
   "metadata": {},
   "outputs": [],
   "source": [
    "# save scores for logistic regression\n",
    "model_comparison = {}\n",
    "model_comparison[\"LogisticRegression\"] = tuned"
   ]
  },
  {
   "cell_type": "markdown",
   "metadata": {},
   "source": [
    "# 3.3 Support Vector Classifier"
   ]
  },
  {
   "cell_type": "markdown",
   "metadata": {},
   "source": [
    "Now I will go through the same process with a support vector machine classifier."
   ]
  },
  {
   "cell_type": "code",
   "execution_count": 123,
   "metadata": {},
   "outputs": [
    {
     "data": {
      "text/plain": [
       "{'fit_time': array([0.42087269, 0.41485357, 0.42287374, 0.41788197, 0.41292715]),\n",
       " 'score_time': array([0.28025079, 0.28028989, 0.28223586, 0.28025031, 0.30216122]),\n",
       " 'test_f1': array([0.99052774, 0.99051491, 0.98778833, 0.98917456, 0.9851752 ]),\n",
       " 'train_f1': array([0.99778195, 0.99727242, 0.99778271, 0.99812319, 0.99744246]),\n",
       " 'test_precision': array([0.98123324, 0.98120805, 0.97981157, 0.97858099, 0.97078353]),\n",
       " 'train_precision': array([0.99557371, 0.99455967, 0.99557522, 0.99625341, 0.99489796]),\n",
       " 'test_recall': array([1.        , 1.        , 0.99589603, 1.        , 1.        ]),\n",
       " 'train_recall': array([1., 1., 1., 1., 1.])}"
      ]
     },
     "execution_count": 123,
     "metadata": {},
     "output_type": "execute_result"
    }
   ],
   "source": [
    "# save model\n",
    "clf = SVC(gamma=\"auto\", kernel=\"linear\")\n",
    "\n",
    "# find baseline results\n",
    "baseline = cross_validate(clf, X_train, y_train, cv=5, return_train_score=True, scoring=[\"f1\", \"precision\", \"recall\"])\n",
    "baseline"
   ]
  },
  {
   "cell_type": "markdown",
   "metadata": {},
   "source": [
    "The support vector machine looks promising. I don't think tuning it will make it any better."
   ]
  },
  {
   "cell_type": "code",
   "execution_count": 125,
   "metadata": {},
   "outputs": [],
   "source": [
    "# save scores\n",
    "model_comparison[\"SVC\"] = baseline"
   ]
  },
  {
   "cell_type": "markdown",
   "metadata": {},
   "source": [
    "# 3.4 Decision Tree"
   ]
  },
  {
   "cell_type": "markdown",
   "metadata": {},
   "source": [
    "Now I will move on to the tree based algorithms, starting with the decision tree."
   ]
  },
  {
   "cell_type": "code",
   "execution_count": 126,
   "metadata": {},
   "outputs": [
    {
     "data": {
      "text/plain": [
       "{'fit_time': array([0.19048572, 0.21243072, 0.18949509, 0.17752647, 0.17952037]),\n",
       " 'score_time': array([0.00302386, 0.00299001, 0.00398374, 0.0029912 , 0.00398874]),\n",
       " 'test_f1': array([0.97750511, 0.98226467, 0.97945205, 0.97693351, 0.97275204]),\n",
       " 'train_f1': array([1., 1., 1., 1., 1.]),\n",
       " 'test_precision': array([0.9755102 , 0.97959184, 0.98079561, 0.96904441, 0.9687924 ]),\n",
       " 'train_precision': array([1., 1., 1., 1., 1.]),\n",
       " 'test_recall': array([0.9795082 , 0.98495212, 0.97811218, 0.98495212, 0.97674419]),\n",
       " 'train_recall': array([1., 1., 1., 1., 1.])}"
      ]
     },
     "execution_count": 126,
     "metadata": {},
     "output_type": "execute_result"
    }
   ],
   "source": [
    "# find baseline scores\n",
    "clf = DecisionTreeClassifier()\n",
    "\n",
    "baseline = cross_validate(clf, X_train, y_train, cv=5, return_train_score=True, scoring=[\"f1\", \"precision\", \"recall\"])\n",
    "baseline"
   ]
  },
  {
   "cell_type": "markdown",
   "metadata": {},
   "source": [
    "The model seems to be overfitting due to too little bias. Observe how the testing precision changes by 10 percentile based on which split is being tested. I will see if lowering the max depth fixes the problem."
   ]
  },
  {
   "cell_type": "code",
   "execution_count": 127,
   "metadata": {},
   "outputs": [
    {
     "data": {
      "text/plain": [
       "GridSearchCV(cv=5, error_score='raise-deprecating',\n",
       "             estimator=DecisionTreeClassifier(class_weight=None,\n",
       "                                              criterion='gini', max_depth=None,\n",
       "                                              max_features=None,\n",
       "                                              max_leaf_nodes=None,\n",
       "                                              min_impurity_decrease=0.0,\n",
       "                                              min_impurity_split=None,\n",
       "                                              min_samples_leaf=1,\n",
       "                                              min_samples_split=2,\n",
       "                                              min_weight_fraction_leaf=0.0,\n",
       "                                              presort=False, random_state=None,\n",
       "                                              splitter='best'),\n",
       "             iid='warn', n_jobs=None, param_grid={'max_depth': [2, 3]},\n",
       "             pre_dispatch='2*n_jobs', refit=True, return_train_score=True,\n",
       "             scoring='f1', verbose=0)"
      ]
     },
     "execution_count": 127,
     "metadata": {},
     "output_type": "execute_result"
    }
   ],
   "source": [
    "# hyper parameter tuning\n",
    "\n",
    "params = {\"max_depth\":[2,3]}\n",
    "gs = GridSearchCV(clf, params, cv=5, return_train_score=True, scoring=\"f1\")\n",
    "gs.fit(X_train, y_train)"
   ]
  },
  {
   "cell_type": "code",
   "execution_count": 128,
   "metadata": {},
   "outputs": [
    {
     "data": {
      "text/plain": [
       "{'max_depth': 3}"
      ]
     },
     "execution_count": 128,
     "metadata": {},
     "output_type": "execute_result"
    }
   ],
   "source": [
    "gs.best_params_"
   ]
  },
  {
   "cell_type": "code",
   "execution_count": 129,
   "metadata": {},
   "outputs": [
    {
     "data": {
      "text/plain": [
       "{'fit_time': array([0.19053006, 0.19052172, 0.1875    , 0.17654109, 0.18147349]),\n",
       " 'score_time': array([0.00399375, 0.00399184, 0.00299358, 0.00398779, 0.0039897 ]),\n",
       " 'test_f1': array([0.97400821, 0.98362892, 0.9795082 , 0.97564276, 0.97414966]),\n",
       " 'train_f1': array([1., 1., 1., 1., 1.]),\n",
       " 'test_precision': array([0.97534247, 0.98095238, 0.9781719 , 0.96519411, 0.96887686]),\n",
       " 'train_precision': array([1., 1., 1., 1., 1.]),\n",
       " 'test_recall': array([0.9726776 , 0.98632011, 0.98084815, 0.98632011, 0.97948016]),\n",
       " 'train_recall': array([1., 1., 1., 1., 1.])}"
      ]
     },
     "execution_count": 129,
     "metadata": {},
     "output_type": "execute_result"
    }
   ],
   "source": [
    "tuned = cross_validate(clf, X_train, y_train, cv=5, return_train_score=True, scoring=[\"f1\", \"precision\", \"recall\"])\n",
    "tuned"
   ]
  },
  {
   "cell_type": "markdown",
   "metadata": {},
   "source": [
    "While the over fitting problem got somewhat better, the model just isn't performing that well. Perhaps the ensemble method will work better."
   ]
  },
  {
   "cell_type": "markdown",
   "metadata": {},
   "source": [
    "# 3.5 Random Forest"
   ]
  },
  {
   "cell_type": "code",
   "execution_count": 130,
   "metadata": {},
   "outputs": [
    {
     "name": "stderr",
     "output_type": "stream",
     "text": [
      "C:\\Users\\zasz\\Anaconda3\\lib\\site-packages\\sklearn\\ensemble\\forest.py:245: FutureWarning: The default value of n_estimators will change from 10 in version 0.20 to 100 in 0.22.\n",
      "  \"10 in version 0.20 to 100 in 0.22.\", FutureWarning)\n",
      "C:\\Users\\zasz\\Anaconda3\\lib\\site-packages\\sklearn\\ensemble\\forest.py:245: FutureWarning: The default value of n_estimators will change from 10 in version 0.20 to 100 in 0.22.\n",
      "  \"10 in version 0.20 to 100 in 0.22.\", FutureWarning)\n",
      "C:\\Users\\zasz\\Anaconda3\\lib\\site-packages\\sklearn\\ensemble\\forest.py:245: FutureWarning: The default value of n_estimators will change from 10 in version 0.20 to 100 in 0.22.\n",
      "  \"10 in version 0.20 to 100 in 0.22.\", FutureWarning)\n",
      "C:\\Users\\zasz\\Anaconda3\\lib\\site-packages\\sklearn\\ensemble\\forest.py:245: FutureWarning: The default value of n_estimators will change from 10 in version 0.20 to 100 in 0.22.\n",
      "  \"10 in version 0.20 to 100 in 0.22.\", FutureWarning)\n",
      "C:\\Users\\zasz\\Anaconda3\\lib\\site-packages\\sklearn\\ensemble\\forest.py:245: FutureWarning: The default value of n_estimators will change from 10 in version 0.20 to 100 in 0.22.\n",
      "  \"10 in version 0.20 to 100 in 0.22.\", FutureWarning)\n"
     ]
    },
    {
     "data": {
      "text/plain": [
       "{'fit_time': array([0.17656779, 0.17153287, 0.16354823, 0.1725378 , 0.17149949]),\n",
       " 'score_time': array([0.01097035, 0.01097083, 0.00997353, 0.01097131, 0.01097083]),\n",
       " 'test_f1': array([0.98451178, 0.98184264, 0.9844909 , 0.98186702, 0.98184264]),\n",
       " 'train_f1': array([0.99880444, 0.99897541, 0.99914603, 0.99948744, 0.99982909]),\n",
       " 'test_precision': array([0.97078353, 0.96560847, 0.97074468, 0.96437995, 0.96560847]),\n",
       " 'train_precision': array([0.99761174, 0.99795292, 0.99829352, 0.99897541, 0.99965824]),\n",
       " 'test_recall': array([0.99863388, 0.99863201, 0.99863201, 1.        , 0.99863201]),\n",
       " 'train_recall': array([1., 1., 1., 1., 1.])}"
      ]
     },
     "execution_count": 130,
     "metadata": {},
     "output_type": "execute_result"
    }
   ],
   "source": [
    "# find baseline scores\n",
    "clf = RandomForestClassifier()\n",
    "\n",
    "baseline = cross_validate(clf, X_train, y_train, cv=5, return_train_score=True, scoring=[\"f1\", \"precision\", \"recall\"])\n",
    "baseline"
   ]
  },
  {
   "cell_type": "markdown",
   "metadata": {},
   "source": [
    "The model seems to be over fitting. I will adjust the n_estimators to 200."
   ]
  },
  {
   "cell_type": "code",
   "execution_count": 131,
   "metadata": {},
   "outputs": [
    {
     "data": {
      "text/plain": [
       "{'fit_time': array([3.3909297 , 3.61234403, 3.75193238, 3.23534584, 3.54156184]),\n",
       " 'score_time': array([0.1585753 , 0.1486063 , 0.1515944 , 0.14560986, 0.14361525]),\n",
       " 'test_f1': array([0.98785425, 0.98451178, 0.98250336, 0.98120805, 0.97661991]),\n",
       " 'train_f1': array([1., 1., 1., 1., 1.]),\n",
       " 'test_precision': array([0.976     , 0.96949602, 0.96688742, 0.96310935, 0.95430809]),\n",
       " 'train_precision': array([1., 1., 1., 1., 1.]),\n",
       " 'test_recall': array([1.        , 1.        , 0.99863201, 1.        , 1.        ]),\n",
       " 'train_recall': array([1., 1., 1., 1., 1.])}"
      ]
     },
     "execution_count": 131,
     "metadata": {},
     "output_type": "execute_result"
    }
   ],
   "source": [
    "# tune hyper-parameters and check scores\n",
    "clf = clf.set_params(n_estimators=200)\n",
    "\n",
    "tuned = cross_validate(clf, X_train, y_train, cv=5, return_train_score=True, scoring=[\"f1\", \"precision\", \"recall\"])\n",
    "tuned"
   ]
  },
  {
   "cell_type": "markdown",
   "metadata": {},
   "source": [
    "Random Forest performs well, but not as good as the SVM."
   ]
  },
  {
   "cell_type": "markdown",
   "metadata": {},
   "source": [
    "# 4.1 Modeling Analysis"
   ]
  },
  {
   "cell_type": "markdown",
   "metadata": {},
   "source": [
    "Lets first take a look at the scores."
   ]
  },
  {
   "cell_type": "code",
   "execution_count": 133,
   "metadata": {},
   "outputs": [
    {
     "data": {
      "text/plain": [
       "{'LogisticRegression': {'fit_time': array([0.01396179, 0.01196766, 0.01097083, 0.00897574, 0.00897336]),\n",
       "  'score_time': array([0.0039947 , 0.00299239, 0.00302553, 0.00299072, 0.00199413]),\n",
       "  'test_f1': array([0.98852127, 0.98650472, 0.98578199, 0.98583951, 0.98384926]),\n",
       "  'train_f1': array([0.99880444, 0.99880485, 0.99829352, 0.99863435, 0.99880485]),\n",
       "  'test_precision': array([0.97730307, 0.97336884, 0.97587131, 0.97207447, 0.96821192]),\n",
       "  'train_precision': array([0.99761174, 0.99761255, 0.99659284, 0.99727242, 0.99761255]),\n",
       "  'test_recall': array([1.        , 1.        , 0.99589603, 1.        , 1.        ]),\n",
       "  'train_recall': array([1., 1., 1., 1., 1.])},\n",
       " 'SVC': {'fit_time': array([0.42087269, 0.41485357, 0.42287374, 0.41788197, 0.41292715]),\n",
       "  'score_time': array([0.28025079, 0.28028989, 0.28223586, 0.28025031, 0.30216122]),\n",
       "  'test_f1': array([0.99052774, 0.99051491, 0.98778833, 0.98917456, 0.9851752 ]),\n",
       "  'train_f1': array([0.99778195, 0.99727242, 0.99778271, 0.99812319, 0.99744246]),\n",
       "  'test_precision': array([0.98123324, 0.98120805, 0.97981157, 0.97858099, 0.97078353]),\n",
       "  'train_precision': array([0.99557371, 0.99455967, 0.99557522, 0.99625341, 0.99489796]),\n",
       "  'test_recall': array([1.        , 1.        , 0.99589603, 1.        , 1.        ]),\n",
       "  'train_recall': array([1., 1., 1., 1., 1.])}}"
      ]
     },
     "execution_count": 133,
     "metadata": {},
     "output_type": "execute_result"
    }
   ],
   "source": [
    "model_comparison"
   ]
  },
  {
   "cell_type": "markdown",
   "metadata": {},
   "source": [
    "It looks like the support vector machine worked the best, so lets examine the coefficients to the model."
   ]
  },
  {
   "cell_type": "code",
   "execution_count": 175,
   "metadata": {},
   "outputs": [
    {
     "name": "stdout",
     "output_type": "stream",
     "text": [
      "8707 [-0.97287306  0.51175506 -0.31451965 -0.40260317 -0.8954207  -0.01248366\n",
      " -0.27066321  0.00618317  0.06391458  0.        ]\n"
     ]
    }
   ],
   "source": [
    "# fit support vector machine\n",
    "\n",
    "# save model\n",
    "clf = SVC(gamma=\"auto\", kernel=\"linear\")\n",
    "\n",
    "# fit\n",
    "clf.fit(X_train, y_train)\n",
    "\n",
    "# get coefficients\n",
    "coefs = clf.coef_.toarray()[0]\n",
    "print(len(coefs), coefs[:10])"
   ]
  },
  {
   "cell_type": "code",
   "execution_count": 176,
   "metadata": {},
   "outputs": [
    {
     "data": {
      "text/plain": [
       "[\"'luxury\", \"'m\", \"'maangalyam\", \"'married\", \"'melle\"]"
      ]
     },
     "execution_count": 176,
     "metadata": {},
     "output_type": "execute_result"
    }
   ],
   "source": [
    "# get feature names\n",
    "names = vectorizer.get_feature_names()\n",
    "names[20:25]"
   ]
  },
  {
   "cell_type": "code",
   "execution_count": 178,
   "metadata": {},
   "outputs": [],
   "source": [
    "# combine coeficients and feature names in a dictionary\n",
    "names_coefs = dict(zip(names, coefs))"
   ]
  },
  {
   "cell_type": "code",
   "execution_count": 179,
   "metadata": {},
   "outputs": [
    {
     "data": {
      "text/plain": [
       "{'!': -0.9728730589077194,\n",
       " '#': 0.5117550636903045,\n",
       " '$': -0.31451965380929153,\n",
       " '%': -0.4026031699932091,\n",
       " '&': -0.8954206995054138,\n",
       " \"'\": -0.012483655735522577,\n",
       " \"''\": -0.27066320598726956,\n",
       " \"''ok\": 0.006183169799853229,\n",
       " \"'an\": 0.06391457889686161,\n",
       " \"'anything\": 0.0,\n",
       " \"'comfort\": 0.0,\n",
       " \"'d\": 0.22430657456767578,\n",
       " \"'doctors\": 0.0,\n",
       " \"'heart\": 0.0,\n",
       " \"'help\": -0.22994098669950438,\n",
       " \"'hex\": 0.0,\n",
       " \"'hw\": 0.0,\n",
       " \"'if\": 0.0,\n",
       " \"'its\": 0.057259655411489696,\n",
       " \"'ll\": 0.2336586083185257,\n",
       " \"'luxury\": 0.0,\n",
       " \"'m\": 0.16256635432169012,\n",
       " \"'maangalyam\": 0.197417685168035,\n",
       " \"'married\": 0.0,\n",
       " \"'melle\": 0.06916655949796766,\n",
       " \"'need\": 0.0,\n",
       " \"'re\": -0.0938843162914282,\n",
       " \"'rencontre\": 0.0,\n",
       " \"'s\": 0.11804216527557373,\n",
       " \"'simple\": 0.0,\n",
       " \"'taxless\": 0.0,\n",
       " \"'terrorist\": 0.06400850014652959,\n",
       " \"'that\": 0.0,\n",
       " \"'til\": 0.0,\n",
       " \"'uptown\": -0.25895353348948924,\n",
       " \"'ve\": 0.08335575793770557,\n",
       " \"'wnevr\": 0.0,\n",
       " \"'xam\": 0.0,\n",
       " '(': -0.9248939006381598,\n",
       " ')': 0.6495664241718633,\n",
       " '*': 0.2792430672413267,\n",
       " '*****': -0.026936520052892515,\n",
       " '***********': -0.46451639240321185,\n",
       " '***************': 0.0,\n",
       " '*****up': -0.46451639240321185,\n",
       " '**free': 0.0,\n",
       " '*9': 0.2540853660202641,\n",
       " '*a': 0.0,\n",
       " '*adoring': 0.0,\n",
       " '*billing': -0.2783804223503001,\n",
       " '*childish': 0.0,\n",
       " '*deep': 0.0,\n",
       " '*devouring': 0.0,\n",
       " '*exposes': 0.0,\n",
       " '*grins*': 0.0019617549255924304,\n",
       " '*have': 0.0,\n",
       " '*i': 0.0,\n",
       " '*i*': 0.0,\n",
       " '*kiss*': 0.0,\n",
       " '*kisses*': 0.0,\n",
       " '*laughs*': 0.0,\n",
       " '*loving': 0.0,\n",
       " '*missing': 0.0461138819602682,\n",
       " '*number': 0.0461138819602682,\n",
       " '*phews*': 0.0,\n",
       " '*pouts*': 0.0,\n",
       " '*pushes': 0.0,\n",
       " '*sent': 0.0461138819602682,\n",
       " '*sighs*': 0.0,\n",
       " '*smiles*': 0.0,\n",
       " '*snuggles': 0.0,\n",
       " '*stomps': 0.0,\n",
       " '*teasing': 0.0,\n",
       " '*turn*': -0.2536288864801031,\n",
       " '*wait': 0.0,\n",
       " '*whispers*': 0.0,\n",
       " '*wicked': 0.0,\n",
       " '+': -0.2426792060586747,\n",
       " '+123': 0.0,\n",
       " '+447797706009': -0.3335275419672948,\n",
       " '+449071512431': 0.0,\n",
       " '+cheer': 0.0,\n",
       " '+get': 0.0,\n",
       " '+std': -0.21690537441868296,\n",
       " ',': -0.6096089504756228,\n",
       " '-': -0.27092626759307054,\n",
       " '-*': 0.0,\n",
       " '--': 0.0,\n",
       " '-4': -0.21363768407268738,\n",
       " '-apples': 0.2182486563443812,\n",
       " '-call': 0.0,\n",
       " '-d': 0.021335458061519107,\n",
       " '-db-': 0.0,\n",
       " '-message': -0.3335275419672948,\n",
       " '-msg': -0.09200437250166439,\n",
       " '-no': 0.0,\n",
       " '-p': 0.0,\n",
       " '-pls': -0.10431969487481228,\n",
       " '-shakespeare-': 0.0,\n",
       " '-sub': -0.3031293047735739,\n",
       " '-tho': 0.0,\n",
       " '-u': 0.0,\n",
       " '-xx': 0.020433723560392372,\n",
       " '.': -0.3224012364287585,\n",
       " '..': 0.14004773516270047,\n",
       " '...': 0.9679240531722456,\n",
       " '..i': 0.0,\n",
       " '..it': 0.0,\n",
       " '..its': 0.0,\n",
       " '..not': 0.0,\n",
       " '..please': -0.22150548850797674,\n",
       " '..shiny': 0.0,\n",
       " '..water': 0.08888444758396234,\n",
       " '..will': 0.07733453064393273,\n",
       " '.\\\\': 0.06391457889686161,\n",
       " '.a': 0.0,\n",
       " '.after': 0.0,\n",
       " '.be': 0.0,\n",
       " '.by': 0.0,\n",
       " '.dear.with': 0.0,\n",
       " '.gn': 0.010757196747183471,\n",
       " '.hmm': 0.0,\n",
       " '.how': 0.0,\n",
       " '.i': 0.0,\n",
       " '.insha': 0.0,\n",
       " '.irritating': 0.0,\n",
       " '.joker': 0.0,\n",
       " '.life': 0.0,\n",
       " '.lovable': 0.0,\n",
       " '.my': 0.0,\n",
       " '.nt': 0.0,\n",
       " '.please': 0.0,\n",
       " '.so': 0.0,\n",
       " '.t': 0.0,\n",
       " '.take': 0.0,\n",
       " '.tc': 0.0,\n",
       " '.terry\\\\': 0.06086730383375621,\n",
       " '.that': 0.0,\n",
       " '.u': 0.0,\n",
       " '.very': 0.0,\n",
       " '.|': 0.0,\n",
       " '/': -0.16656440391759164,\n",
       " '/-': 0.0,\n",
       " '//alto18.co.uk/wave/wave.asp': -0.38435759663026975,\n",
       " '//careers': -0.3335275419672948,\n",
       " '//doit': -0.27872021769437677,\n",
       " '//img': -0.21363768407268738,\n",
       " '//tms': -0.07134815877936088,\n",
       " '//wap': 0.0,\n",
       " '//www.bubbletext.com': -0.36146721738439447,\n",
       " '//www.e-tlp.co.uk/expressoffer': 0.0,\n",
       " '//www.e-tlp.co.uk/reward': 0.0,\n",
       " '//www.urawinner.com': -0.32936509965381583,\n",
       " '//www.vouch4me.com/etlp/dining.asp': -0.28375746099987437,\n",
       " '//www.wtlp.co.uk/text': 0.0,\n",
       " '/7': 0.0,\n",
       " '/colour': 0.0,\n",
       " '/oz': 0.0,\n",
       " '0': -0.3173811264115724,\n",
       " '008704050406': -0.11154768748143404,\n",
       " '0089': -0.13303109785585138,\n",
       " '0121': -0.2923776839486845,\n",
       " '01223585236': -0.286229633318832,\n",
       " '01223585334': -0.19203865072976445,\n",
       " '02': 0.0,\n",
       " '02/06/03': -0.018032004647297796,\n",
       " '02/09/03': 0.0,\n",
       " '0207': -0.08360409341036187,\n",
       " '0207-083-6089': -0.6358140044372886,\n",
       " '02072069400.': -0.09899161219951286,\n",
       " '02073162414': -0.6296460796400016,\n",
       " '02085076972': -0.04820285177101061,\n",
       " '021': -0.24684527841796017,\n",
       " '050703': -0.23108489044834105,\n",
       " '0578': -0.4978166732924277,\n",
       " '06.': -0.27708322635607036,\n",
       " '06.05.05': 0.0,\n",
       " '06/11/04': -0.07274118409288813,\n",
       " '07/11/04': -0.10047869240373901,\n",
       " '07008009200': -0.41935803830645324,\n",
       " '07046744435': -0.09319125942709768,\n",
       " '07099833605': -0.3061120705224566,\n",
       " '07123456789': -0.1796233174047884,\n",
       " '0721072': 0.0,\n",
       " '07732584351': 0.0,\n",
       " '07734396839': -0.11334094906113308,\n",
       " '07742676969': 0.0,\n",
       " '07753741225': -0.072456327323569,\n",
       " '07786200117': -0.14541182769684904,\n",
       " '077xxx': 0.0,\n",
       " '078': -0.5191153197029075,\n",
       " '07801543489': -0.08390664924467,\n",
       " '07808': -0.10542140517192208,\n",
       " '07808247860': -0.07274118409288813,\n",
       " '07808726822': 0.0,\n",
       " '07815296484': -0.0864418211761565,\n",
       " '07821230901': -0.1149746581617588,\n",
       " '078498****7': 0.0,\n",
       " '0789xxxxxxx': -0.28042244269012817,\n",
       " '0796xxxxxx': -0.1047373566489882,\n",
       " '07xxxxxxxxx': -0.24259502498719926,\n",
       " '0800': -0.9330508559876172,\n",
       " '08000407165': 0.0,\n",
       " '08000839402': -0.42498270978019925,\n",
       " '08000930705': -0.223596864021918,\n",
       " '08000938767': -0.05023837669462822,\n",
       " '08001950382': -0.11463271767163169,\n",
       " '08002888812': -0.0677004147428737,\n",
       " '08002986030': -0.02936715164239609,\n",
       " '08002986906': 0.0,\n",
       " '08002988890': 0.0,\n",
       " '08006344447': 0.0,\n",
       " '0808': 0.0,\n",
       " '08081263000': -0.013289561926899377,\n",
       " '08081560665': -0.14541182769684904,\n",
       " '0825': 0.0,\n",
       " '0844': -0.2477019847731531,\n",
       " '08448350055': 0.0,\n",
       " '08448714184': 0.0,\n",
       " '0845': -0.2352718668568789,\n",
       " '08450542832': -0.2529577641994368,\n",
       " '08452810073': 0.0,\n",
       " '08452810075over18': 0.0,\n",
       " '0870': -0.1893573507442479,\n",
       " '0870..k': -0.2971195404193749,\n",
       " '08700621170150p': -0.05401570293624906,\n",
       " '08701213186': 0.0,\n",
       " '08701237397': -0.08695253708787577,\n",
       " '08701417012': -0.14690938203286422,\n",
       " '08701417012150p': -0.04820088600571295,\n",
       " '0870141701216+': -0.019869604994150164,\n",
       " '087018728737': -0.08285396397700322,\n",
       " '0870241182716': -0.23641943745921576,\n",
       " '08702840625.comuk': -0.26259952059156183,\n",
       " '08706091795': -0.03176143747055748,\n",
       " '0870737910216yrs': -0.3086230947882252,\n",
       " '08707500020': 0.0,\n",
       " '08707509020': -0.26563860751406093,\n",
       " '0870753331018+': -0.2470630760943727,\n",
       " '08707808226': -0.34344634205913954,\n",
       " '08708034412': -0.27708322635607036,\n",
       " '08709222922.': 0.0,\n",
       " '08709501522': -0.21611105601417321,\n",
       " '0871-872-9758': 0.0,\n",
       " '087104711148': 0.0,\n",
       " '08712101358': 0.0,\n",
       " '0871212025016': 0.0,\n",
       " '08712300220': -0.29461146758966816,\n",
       " '087123002209am-7pm': 0.0,\n",
       " '08712317606': -0.3416576156692417,\n",
       " '08712400200': -0.5174460143807121,\n",
       " '08712402050': -0.11222672406519536,\n",
       " '08712402578': -0.2947795469677609,\n",
       " '08712402779': -0.29473352429214494,\n",
       " '08712402902': -0.24761999223782968,\n",
       " '08712402972': -0.29477954696776026,\n",
       " '08712404000': 0.0,\n",
       " '08712405020': -0.08820065550268423,\n",
       " '08712405022': 0.0,\n",
       " '08712460324': -0.564062303765122,\n",
       " '08712466669': -0.20731952073221355,\n",
       " '0871277810710p/min': 0.0,\n",
       " '0871277810810': 0.0,\n",
       " '0871277810910p/min': -0.008376322047124048,\n",
       " '08714342399.2stop': -0.1917957908789184,\n",
       " '087147123779am-7pm': 0.0,\n",
       " '08714712388': -0.5334386762314327,\n",
       " '08714712394': 0.0,\n",
       " '08714712412': 0.0,\n",
       " '08714714011': 0.0,\n",
       " '08715203028': -0.20692393160278907,\n",
       " '08715203652': -0.00515096977067431,\n",
       " '08715203677': -0.072456327323569,\n",
       " '08715203685': -0.1096551776305061,\n",
       " '08715705022': -0.17077434253520002,\n",
       " '08717111821': -0.3497786771219053,\n",
       " '08717168528': -0.034316987546679445,\n",
       " '08717205546': -0.09329679075199293,\n",
       " '0871750.77.11': -0.3228251430059814,\n",
       " '08717507382': -0.1262534957298079,\n",
       " '08717509990': -0.24264287418011812,\n",
       " '08717898035.': 0.0,\n",
       " '08718711108': -0.4328789042555433,\n",
       " '08718720201': -0.3044803897108477,\n",
       " '08718723815': -0.2882605832332964,\n",
       " '08718725756': -0.16288753015904384,\n",
       " '08718726270': -0.3328529853003606,\n",
       " '087187262701.50gbp/mtmsg18': -0.03831598735980006,\n",
       " '08718726970': 0.0,\n",
       " '08718726971': 0.0,\n",
       " '08718726978': 0.0,\n",
       " '087187272008': -0.11188059918220877,\n",
       " '08718727868.': 0.0,\n",
       " '08718727870': -0.27619157596961763,\n",
       " '08718730666': -0.2340836537984613,\n",
       " '08718738001': -0.08238897163828882,\n",
       " '08718738002': -0.005426698501739113,\n",
       " '08718738034': -0.5173327775712875,\n",
       " '08719180219': 0.0,\n",
       " '08719180248': 0.0,\n",
       " '08719181259': -0.24413028918047153,\n",
       " '08719181503': -0.49953069827829993,\n",
       " '08719181513': -0.5011754777000974,\n",
       " '08719839835.': -0.2114552577559579,\n",
       " '08719899217': -0.10542140517192208,\n",
       " '08719899229': -0.07274118409288813,\n",
       " '08719899230': 0.0,\n",
       " '09041940223': -0.22150548850797674,\n",
       " '09050000301': -0.13331752833078694,\n",
       " '09050000332': 0.0,\n",
       " '09050000460': 0.0,\n",
       " '09050000555.': 0.0,\n",
       " '09050000878.': -0.032638293426685505,\n",
       " '09050000928.': -0.03198001487929498,\n",
       " '09050001808': 0.0,\n",
       " '09050002311': 0.0,\n",
       " '09050003091': 0.0,\n",
       " '09050005321': 0.0,\n",
       " '09050090044': -0.2824313714470792,\n",
       " '09050280520': -0.13286324034794586,\n",
       " '09053750005': -0.16288753015904384,\n",
       " '09056242159': -0.23497898436843123,\n",
       " '09057039994': -0.09508712836264901,\n",
       " '09058091854': -0.2983922873076306,\n",
       " '09058091870': -0.11954585918813321,\n",
       " '09058094455': 0.0,\n",
       " '09058094507': 0.0,\n",
       " '09058094565': -0.0024315729024009685,\n",
       " '09058094583': -0.30489384460428937,\n",
       " '09058094594': -0.153679552581795,\n",
       " '09058094597': -0.21710949860893525,\n",
       " '09058094599': -0.15247019027964182,\n",
       " '09058095107': 0.0,\n",
       " '09058097189': 0.0,\n",
       " '09058097218': -0.3351344284316088,\n",
       " '09058098002.': 0.0,\n",
       " '09058099801': -0.17433179302391635,\n",
       " '09061104276': -0.1255672476269992,\n",
       " '09061104283': -0.25762166588063895,\n",
       " '09061209465': -0.17037037766183719,\n",
       " '09061213237': 0.0,\n",
       " '09061221061': -0.1254375552243337,\n",
       " '09061221066': -0.29125161899509244,\n",
       " '09061701461.': 0.0,\n",
       " '09061701851.': 0.0,\n",
       " '09061701939.': 0.0,\n",
       " '09061702893': 0.0,\n",
       " '09061702893.': 0.0,\n",
       " '09061743386': 0.0,\n",
       " '09061743806': -0.07168382292413564,\n",
       " '09061743811': 0.0,\n",
       " '09061744553': -0.17463481905196504,\n",
       " '09061749602': 0.0,\n",
       " '09061790121': 0.0,\n",
       " '09061790125': 0.0,\n",
       " '09063440451': -0.0050790889541440995,\n",
       " '09063442151': -0.13303109785585138,\n",
       " '09063458130': -0.06472633422202756,\n",
       " '0906346330.': 0.0,\n",
       " '09064011000.': -0.07261861447808882,\n",
       " '09064012103': -0.4345587222845018,\n",
       " '09064012160.': -0.013937378794346847,\n",
       " '09064015307': 0.0,\n",
       " '09064017295': 0.0,\n",
       " '09064017305': 0.0,\n",
       " '09064018838.': -0.10667439035639524,\n",
       " '09064019014': -0.018321651500110905,\n",
       " '09064019788': 0.0,\n",
       " '09065069120': 0.0,\n",
       " '09065069154': 0.0,\n",
       " '09065171142-stopsms-08718727870150ppm': -0.1536795525817959,\n",
       " '09065174042.': -0.1149746581617588,\n",
       " '09065394973': -0.29496691726334134,\n",
       " '09065989180': 0.0,\n",
       " '09065989182': 0.0,\n",
       " '09065989182.': 0.0,\n",
       " '09066350750': 0.0,\n",
       " '09066358152': -0.15006656418378525,\n",
       " '09066358361': 0.0,\n",
       " '09066362206': 0.0,\n",
       " '09066362231': -0.03736823668004623,\n",
       " '09066364311': 0.0,\n",
       " '09066364349': -0.24982629852863275,\n",
       " '09066364589': -0.2119050101017595,\n",
       " '09066368327': -0.3321997158502054,\n",
       " '09066368470': -0.2112968234241911,\n",
       " '09066368753': 0.0,\n",
       " '09066380611': -0.232203144463027,\n",
       " '09066382422': -0.09688696919582217,\n",
       " '09066612661': 0.0,\n",
       " '09066649731from': 0.0,\n",
       " '09066660100': -0.012822180605126896,\n",
       " '09071512432': -0.28291228949515873,\n",
       " '09071512433': -0.23108489044834105,\n",
       " '09077818151': -0.06396278735431607,\n",
       " '09090900040': -0.2470630760943727,\n",
       " '09094100151': -0.09686116091176866,\n",
       " '09094646899': -0.10059436135327411,\n",
       " '09095350301': -0.1932281441340051,\n",
       " '09099725823': -0.2529248117966311,\n",
       " '09099726395': -0.24228504431328296,\n",
       " '09099726481': -0.2637813950469979,\n",
       " '09099726553': -0.24419039719187607,\n",
       " '09111030116.': 0.0,\n",
       " '09111032124': 0.0,\n",
       " '09701213186': -0.060282998266716264,\n",
       " '0a': -0.3183370013984459,\n",
       " '1': -0.7999259041168384,\n",
       " '1,000': 0.0,\n",
       " '1,2': -0.21690537441868296,\n",
       " '1-hanuman': 0.0,\n",
       " '1-month': 0.0,\n",
       " '1-u': 0.05152410432904935,\n",
       " '1.': -0.0474674757101905,\n",
       " '1.20': 0.0552291008265201,\n",
       " '1.50': -0.3775751661996646,\n",
       " '1.50p': -0.01783929506303233,\n",
       " '1.50p/wk': -0.022010846080660486,\n",
       " '1.5p/min': 0.0,\n",
       " '1.childish': 0.0,\n",
       " '1.u': 0.0,\n",
       " '1/1': -0.2734272554922874,\n",
       " '1/2': -0.12334733280333669,\n",
       " '1/2price': -0.013058058115670124,\n",
       " '1/3': -0.4022128885604603,\n",
       " '10': -0.3213520364994742,\n",
       " '10,000': 0.0,\n",
       " '10..': 0.0,\n",
       " '10/06/03': 0.0,\n",
       " '100': -0.37761494974499793,\n",
       " '1000': 0.0,\n",
       " '1000s': -0.10659631202804179,\n",
       " '100p/sms': -0.3125673020493824,\n",
       " '100txt/mth': -0.013058058115670124,\n",
       " '1013': -0.31850682102540706,\n",
       " '1030': 0.020339889959881983,\n",
       " '10:10': 0.0,\n",
       " '10:30': 0.026876148079515393,\n",
       " '10am': -0.24820617546914484,\n",
       " '10am-7pm': -0.4906830721528987,\n",
       " '10am-9pm': 0.0,\n",
       " '10k': -0.17088680096349504,\n",
       " '10p': -0.5845596706783902,\n",
       " '10p/min': -0.7461979385747535,\n",
       " '10ppm': -0.11222672406519536,\n",
       " '10th': 0.0,\n",
       " '11': -0.024659542822551884,\n",
       " '11.48': 0.0,\n",
       " '1120': 0.0,\n",
       " '113': -0.05260121979490504,\n",
       " '1131': -0.12844919036682598,\n",
       " '114/14': -0.03970025390102189,\n",
       " '11mths': -0.07462018205433837,\n",
       " '11mths+': 0.0,\n",
       " '12': 0.0,\n",
       " '1205': 0.0,\n",
       " '121': -0.2225118751964726,\n",
       " '1225': -0.19090785587328357,\n",
       " '125gift': 0.0,\n",
       " '128': 0.041109280316032545,\n",
       " '12:30': 0.020433723560392372,\n",
       " '12hours': 0.0,\n",
       " '12hrs': -0.013142210264408222,\n",
       " '12mths': -0.3351271747209227,\n",
       " '13/10/04': -0.1096551776305061,\n",
       " '13/4/04': -0.1262534957298079,\n",
       " '130.': 0.041109280316032545,\n",
       " '1327': -0.25937459927195733,\n",
       " '139': -0.21611105601417321,\n",
       " '140': 0.07092332729719497,\n",
       " '1405': 0.0,\n",
       " '140ppm': -0.16288753015904384,\n",
       " '145': 0.0,\n",
       " '146tf150p': -0.7071067811865476,\n",
       " '14thmarch': 0.0,\n",
       " '150': -0.09312287980863516,\n",
       " '150p': -1.218364086923489,\n",
       " '150p/day': 0.0,\n",
       " '150p/meg': -0.2962726035509688,\n",
       " '150p/min': -0.5318389761718576,\n",
       " '150p/msg': -0.6932841926646311,\n",
       " '150p/msg.2': -0.0925393913648461,\n",
       " '150p/msgrcvd': 0.0,\n",
       " '150p/msgrcvdhg/suite342/2lands/row/w1j6hl': -0.08435527923676762,\n",
       " '150p/mt': -0.08390664924467,\n",
       " '150p/mtmsgrcvd18': 0.0,\n",
       " '150p/mtmsgrcvd18+': 0.0,\n",
       " '150p/sms': -0.31202062657541485,\n",
       " '150p/text': -0.2537734370436247,\n",
       " '150p/tone': 0.0,\n",
       " '150p/wk': 0.0,\n",
       " '150pm': -0.3250617818434002,\n",
       " '150ppermesssubscription': -0.131483143865397,\n",
       " '150ppm': -0.5125499091110614,\n",
       " '150ppmsg': -0.22008859385137222,\n",
       " '151.': -0.3492265731826679,\n",
       " '153': -0.08360409341036187,\n",
       " '15541': -0.1842418874703678,\n",
       " '15:26': 0.0,\n",
       " '16': -0.3315720570925956,\n",
       " '16+': -0.5462382622540813,\n",
       " '16+only': -0.2093407267638865,\n",
       " '1680': 0.0,\n",
       " '169': 0.0,\n",
       " '177': 0.0,\n",
       " '177.': 0.0,\n",
       " '18': -0.9294388043006937,\n",
       " '18+': -0.7255398227233152,\n",
       " '18+6*å£1.50': -0.07228317809447368,\n",
       " '18+only': -0.13859415251760113,\n",
       " '18/11/04': -0.0864418211761565,\n",
       " '180': 0.07092332729719497,\n",
       " '1843.': 0.0,\n",
       " '18p/txt': -0.2631618810422223,\n",
       " '18yrs': -0.08850485469174942,\n",
       " '1956669': -0.22994098669950438,\n",
       " '1apple/day=no': 0.019268417997826134,\n",
       " '1cup': 0.019268417997826134,\n",
       " '1da': -0.22008859385137222,\n",
       " '1er': -0.09686116091176866,\n",
       " '1hr': 0.0,\n",
       " '1im': 0.06498949932299809,\n",
       " '1lemon/day=no': 0.019268417997826134,\n",
       " '1pm': 0.0,\n",
       " '1st': -0.5382268439943281,\n",
       " '1stchoice.co.uk': -0.34344634205913954,\n",
       " '1stone': 0.0,\n",
       " '1thing.i': 0.0,\n",
       " '1tulsi': 0.019268417997826134,\n",
       " '1winaweek': -0.131483143865397,\n",
       " '1x150p/wk': 0.0,\n",
       " '1yf': 0.0,\n",
       " '2': -1.2018330610325312,\n",
       " '2,000': 0.0,\n",
       " '2-4-1': -0.06337284018804665,\n",
       " '2-bajarangabali': 0.0,\n",
       " '2-u': 0.05152410432904935,\n",
       " '2.': -0.07914037978109867,\n",
       " '2.15': 0.10977318485633901,\n",
       " '2.30ish': 0.0,\n",
       " '2.50': -0.10720942549026091,\n",
       " '2.im': 0.0,\n",
       " '2.naughty': 0.0,\n",
       " '2.u': 0.0,\n",
       " '2/2': -0.7071067811865476,\n",
       " '20': -0.19212937242011752,\n",
       " '20,000': 0.0,\n",
       " '20/f': -0.1792357309109224,\n",
       " '200': 0.0,\n",
       " '2000': -0.10830978337145912,\n",
       " '2003': -0.783933592685905,\n",
       " '2004': -0.2931871368969505,\n",
       " '2005.': 0.0,\n",
       " '2006': -0.030052441472003522,\n",
       " '2007': -0.27389706631285726,\n",
       " '2025050': -0.2923776839486845,\n",
       " '20m12aq': 0.0,\n",
       " '20p': -0.25937459927195733,\n",
       " '20p/min': -0.6296460796400016,\n",
       " '21': -0.07735289658096987,\n",
       " '21/11/04': -0.005426698501739113,\n",
       " '21/f': -0.1731665571777927,\n",
       " '21/m': -0.21363768407268738,\n",
       " '21870000': -0.23497898436843123,\n",
       " '21st': 0.0,\n",
       " '22': -0.12161419466979058,\n",
       " '220-cm2': -0.26259952059156183,\n",
       " '2309': -0.012822180605126896,\n",
       " '24': 0.0,\n",
       " '24/10/04': -0.072456327323569,\n",
       " '24/7mp': -0.2470630760943727,\n",
       " '24hrs': -0.303644937720096,\n",
       " '24m': -0.2566879070493118,\n",
       " '24th': 0.0,\n",
       " '25': -0.2591841466457145,\n",
       " '25/f': -0.1792357309109231,\n",
       " '250': -0.20712278287419938,\n",
       " '255.': 0.041109280316032545,\n",
       " '25p': -0.31431691461941097,\n",
       " '26.03.05': -0.24413028918047153,\n",
       " '26/11/04': 0.0,\n",
       " '2667': -0.2898503922142865,\n",
       " '26th': 0.1675893184698071,\n",
       " '27/03': -0.034316987546679445,\n",
       " '27/6/03': 0.0,\n",
       " '28': -0.28108634572296426,\n",
       " '2814032': 0.0,\n",
       " '28days': -0.1254375552243337,\n",
       " '28th': -0.27708322635607036,\n",
       " '29/03/05': -0.22150548850797674,\n",
       " '29/10/0': -0.00515096977067431,\n",
       " '2b': 0.0,\n",
       " '2bold': 0.0,\n",
       " '2c': -0.19203865072976445,\n",
       " '2channel': -0.219821908553228,\n",
       " '2day': -0.7370662341150935,\n",
       " '2day.love': 0.0,\n",
       " '2end': -0.19203865072976445,\n",
       " '2exit': 0.0,\n",
       " '2ez': 0.0,\n",
       " '2find': -0.26727475616755525,\n",
       " '2geva': 0.013943310185211322,\n",
       " '2go': 0.0,\n",
       " '2go.did': 0.0,\n",
       " '2gthr': 0.0,\n",
       " '2marrow': 0.0,\n",
       " '2moro': 0.0,\n",
       " '2morro': -0.2637813950469979,\n",
       " '2morrow': 0.0,\n",
       " '2morrowxxxx': 0.0,\n",
       " '2mro': 0.0,\n",
       " '2mrw': 0.03286953097017677,\n",
       " '2nd': -0.41899235199912765,\n",
       " '2nights': -0.08850485469174942,\n",
       " '2nite': -0.2387329057522809,\n",
       " '2optout': -0.0658496563256182,\n",
       " '2optout/d3wv': -0.013058058115670124,\n",
       " '2p': 0.0,\n",
       " '2px': 0.0,\n",
       " '2rcv': -0.3416576156692417,\n",
       " '2stop': -0.12339344575710508,\n",
       " '2stoptx': -0.026777516747197243,\n",
       " '2stoptxt': -0.0015583421142864654,\n",
       " '2u': -0.10987399408300798,\n",
       " '2u2': 0.21102537526561732,\n",
       " '2waxsto': 0.0,\n",
       " '2wks': 0.046068111652986875,\n",
       " '2wt': 0.0,\n",
       " '2wu': -0.21611105601417321,\n",
       " '2years': 0.0,\n",
       " '2yr': -0.1254375552243337,\n",
       " '3': -0.14730154195769385,\n",
       " '3-maruti': 0.0,\n",
       " '3-u': 0.05152410432904935,\n",
       " '3.': -0.5441301083566104,\n",
       " '3.sentiment': 0.0,\n",
       " '3.u': 0.0,\n",
       " '30': -0.6296460796400016,\n",
       " '300': -0.4254534982452539,\n",
       " '300603': -0.09688696919582217,\n",
       " '300603t': -0.28291228949515873,\n",
       " '300p': -0.3037680921716768,\n",
       " '3030': 0.0,\n",
       " '3030.': 0.0,\n",
       " '30apr': -0.019466829167126814,\n",
       " '30pp/txt': -0.2279670167354768,\n",
       " '30s': -0.06396278735431607,\n",
       " '30th': -0.4318875667656376,\n",
       " '3100': -0.18195708638550737,\n",
       " '310303.': -0.16288753015904384,\n",
       " '31p.msg': -0.2065108552697212,\n",
       " '32/f': -0.10431969487481228,\n",
       " '32000': -0.11514504365167152,\n",
       " '32323': -0.2406737232435332,\n",
       " '326': 0.0,\n",
       " '330.': 0.0,\n",
       " '350': -0.12242681329593122,\n",
       " '3510i': 0.0,\n",
       " '35p': -0.2406737232435332,\n",
       " '3650': -0.09688696919582217,\n",
       " '36504': 0.0,\n",
       " '3680': -0.24684527841796017,\n",
       " '373': -0.2630340962047364,\n",
       " '3750': 0.0,\n",
       " '391784.': -0.33868798133327244,\n",
       " '3aj': -0.07228317809447368,\n",
       " '3d': 0.0,\n",
       " '3days': 0.04833427812297199,\n",
       " '3g': -0.2117331314293731,\n",
       " '3gbp': -0.06438621255873521,\n",
       " '3hrs': 0.0,\n",
       " '3lions': -0.06337284018804665,\n",
       " '3lp': -0.19164025963141673,\n",
       " '3miles': 0.1858678294014035,\n",
       " '3mins': -0.3849305502502441,\n",
       " '3mobile': -0.2169131795714899,\n",
       " '3pound': -0.41212495559189394,\n",
       " '3qxj9': -0.26259952059156183,\n",
       " '3rd': 0.15130023419244837,\n",
       " '3ss': 0.0,\n",
       " '3uz': -0.11947154160172824,\n",
       " '3wks': 0.0,\n",
       " '3xx': -0.2898503922142865,\n",
       " '3xå£150pw': 0.0,\n",
       " '4': -0.6322809869796584,\n",
       " '4*': -0.28662064840332646,\n",
       " '4*lux': -0.0050790889541440995,\n",
       " '4-6': 0.0,\n",
       " '4-7/12': -0.1093383170922612,\n",
       " '4-pavanaputra': 0.0,\n",
       " '4-some1': 0.05152410432904935,\n",
       " '4.': -0.0813042510443129,\n",
       " '4.30': 0.0,\n",
       " '4.47per': 0.0,\n",
       " '4.49/month': -0.11515982674060514,\n",
       " '4.50.': 0.0,\n",
       " '4.cook': 0.0,\n",
       " '4.rowdy': 0.0,\n",
       " '40': -0.1653799752840789,\n",
       " '400': -0.0677004147428737,\n",
       " '400mins': -0.33855457561981056,\n",
       " '402': -0.09053637411970086,\n",
       " '4041': 0.0,\n",
       " '40411': -0.07274118409288813,\n",
       " '40gb': -0.07501642414721317,\n",
       " '40mph': 0.0,\n",
       " '41685': -0.10047869240373901,\n",
       " '41782': -0.0864418211761565,\n",
       " '420': 0.0,\n",
       " '42478': -0.072456327323569,\n",
       " '42810': -0.00515096977067431,\n",
       " '434': 0.0,\n",
       " '44': 0.0,\n",
       " '4403ldnw1a7rw18': 0.0,\n",
       " '447801259231': -0.21710949860893525,\n",
       " '448712404000': 0.0,\n",
       " '449050000301': -0.13331752833078694,\n",
       " '45': -0.2923776839486845,\n",
       " '45239': 0.0,\n",
       " '47': 0.0,\n",
       " '4742': 0.0,\n",
       " '4882': -0.018321651500110905,\n",
       " '48922': -0.005426698501739113,\n",
       " '49557': 0.0,\n",
       " '4a': 0.0,\n",
       " '4d': 0.0,\n",
       " '4eva': 0.0,\n",
       " '4few': 0.02770246145609289,\n",
       " '4get': 0.0,\n",
       " '4got': 0.0,\n",
       " '4info': 0.0,\n",
       " '4msgs': -0.2343254283853832,\n",
       " '4mths': -0.05023837669462822,\n",
       " '4t': -0.11334094906113308,\n",
       " '4th': 0.022132195855024753,\n",
       " '4the': 0.0,\n",
       " '4thnov.behind': 0.06060094360888241,\n",
       " '4txt/120p': -0.019869604994150164,\n",
       " '4txt/ì¼1.20': -0.23494463225762474,\n",
       " '4u': -0.00025267517932311967,\n",
       " '4u.i': 0.0,\n",
       " '4utxt': -0.20465089481386878,\n",
       " '4w': 0.02118491346586013,\n",
       " '4ward': 0.0,\n",
       " '4wrd': 0.0,\n",
       " '4years': 0.0,\n",
       " '5': -0.29071405656281313,\n",
       " '5+-': 0.05152410432904935,\n",
       " '5+3+2=': 0.0,\n",
       " '5-sankatmochan': 0.0,\n",
       " '5.': 0.014577720042893788,\n",
       " '5..': 0.0,\n",
       " '5.00': -0.46451639240321185,\n",
       " '5.15pm': 0.0,\n",
       " '5.ful': 0.0,\n",
       " '5.gardener': 0.0,\n",
       " '5.terror': 0.0,\n",
       " '5/9/03': 0.0,\n",
       " '50': -0.14720984339905296,\n",
       " '500': -0.6956793956813824,\n",
       " '5000': -0.069181911855868,\n",
       " '505060': -0.2621030486588548,\n",
       " '50\\\\': -0.28291228949515873,\n",
       " '50p': -0.19952020771748208,\n",
       " '50p/msg': -0.12339344575710508,\n",
       " '50s': 0.0,\n",
       " '515': 0.0,\n",
       " '5226': -0.12844919036682598,\n",
       " '526': -0.09899161219951286,\n",
       " '528': 0.0,\n",
       " '530': 0.0,\n",
       " '54': -0.2626600618906677,\n",
       " '542': -0.48044185992349475,\n",
       " '5free': -0.2279670167354768,\n",
       " '5ish': 0.0,\n",
       " '5k': -0.07261861447808882,\n",
       " '5min': 0.03422116210131401,\n",
       " '5mls': 0.0,\n",
       " '5p': -0.15971031145164388,\n",
       " '5pm': 0.10963515694966634,\n",
       " '5th': 0.02322091510906322,\n",
       " '5wb': -0.25937459927195733,\n",
       " '5we': -0.1854152095395387,\n",
       " '5wkg': 0.09355920834033217,\n",
       " '5wq': 0.0,\n",
       " '5years': 0.05722882668541858,\n",
       " '6': -0.06396442872331502,\n",
       " '6-ramaduth': 0.0,\n",
       " '6.': -0.0829666055814267,\n",
       " '6.30': 0.0,\n",
       " '6.45pm': 0.0,\n",
       " '6.cruel': 0.0,\n",
       " '6.house-maid': 0.0,\n",
       " '6.romantic': 0.0,\n",
       " '60,400thousad.i': 0.12715453953566183,\n",
       " '600': -0.0677004147428737,\n",
       " '6031': 0.0,\n",
       " '60p': -0.2470630760943727,\n",
       " '60p/min': -0.2800465531834456,\n",
       " '61200': -0.2271939799037377,\n",
       " '61610': -0.06421500632347286,\n",
       " '6230': -0.1313446325053905,\n",
       " '62468': -0.5685756019714768,\n",
       " '62735=å£450': -0.1842418874703678,\n",
       " '630': 0.0,\n",
       " '63miles': 0.0,\n",
       " '650': 0.0,\n",
       " '67441233': 0.09355920834033217,\n",
       " '68866.': 0.0,\n",
       " '69101.': -0.2663773895991161,\n",
       " '69200': 0.0,\n",
       " '69669': -0.17024569295527245,\n",
       " '69696': -0.19164025963141673,\n",
       " '69855': 0.0,\n",
       " '69866.18': -0.2279670167354768,\n",
       " '69876.': -0.28117405383431265,\n",
       " '69888': -0.10380176133648222,\n",
       " '69888nyt': -0.10776152383501827,\n",
       " '69969': 0.0,\n",
       " '69988': -0.2694823244591826,\n",
       " '6days': 0.0,\n",
       " '6hl': -0.2630340962047364,\n",
       " '6hrs': 0.0,\n",
       " '6ish': 0.4492169353619884,\n",
       " '6missed': 0.0,\n",
       " '6months': -0.11066182469236598,\n",
       " '6pm': 0.0,\n",
       " '6pm..': 0.0,\n",
       " '6th': 0.02322091510906322,\n",
       " '6times': 0.0,\n",
       " '6wu': -0.2983922873076306,\n",
       " '7': -0.01408194291584107,\n",
       " '7+2+5=': 0.0,\n",
       " '7-mahaveer': 0.0,\n",
       " '7.': 0.014493187061050964,\n",
       " '7.30.': 0.04038934512962773,\n",
       " '7.30ish': 0.0,\n",
       " '7.8p/min': 0.0,\n",
       " '7.children': 0.0,\n",
       " '7.romantic': 0.0,\n",
       " '7.shy': 0.0,\n",
       " '700': 0.0033160307715162317,\n",
       " '7250': 0.0,\n",
       " '7250i': -0.17473434720425687,\n",
       " '730': 0.0,\n",
       " '74355': 0.0,\n",
       " '750': -0.5620670167227731,\n",
       " '7548': 0.0,\n",
       " '7732584351': 0.0,\n",
       " '78': -0.19528673022525309,\n",
       " '786': -0.22456302033990147,\n",
       " '7876150ppm': -0.17433179302391635,\n",
       " '7:30': 0.0,\n",
       " '7am': 0.0,\n",
       " '7ish': 0.04132136925778168,\n",
       " '7oz': 0.0,\n",
       " '7pm': 0.0,\n",
       " '7th': 0.02322091510906322,\n",
       " '8': 0.031204425622053455,\n",
       " '8+6+3=': 0.0,\n",
       " '8-8:30': 0.0,\n",
       " '8.': -0.0859670295829088,\n",
       " '8.30': 0.0,\n",
       " '8.attractive': 0.0,\n",
       " '8.lovable': 0.0,\n",
       " '8.neighbour': 0.0,\n",
       " '80': -0.25895353348948924,\n",
       " '800': -0.3671492555211393,\n",
       " '8000930705': 0.0,\n",
       " '80062': -0.33569361765706035,\n",
       " '8007': -0.34647735114880396,\n",
       " '80082': -0.1880197770948363,\n",
       " '80086': 0.0,\n",
       " '80155': -0.19508174367928882,\n",
       " '80160': -0.01783929506303233,\n",
       " '80182': 0.0,\n",
       " '8027': -0.13286324034794586,\n",
       " '80488': -0.3985306169023919,\n",
       " '80488.biz': 0.0,\n",
       " '80608.': 0.0,\n",
       " '8077': 0.0,\n",
       " '80878': -0.18565474210588614,\n",
       " '80878.': 0.0,\n",
       " '81010': 0.0,\n",
       " '81303': -0.14250199517523995,\n",
       " '81303.': -0.052475613702568376,\n",
       " '81618': -0.08285396397700322,\n",
       " '81618-': -0.3031293047735739,\n",
       " '82242': -0.4882594523283452,\n",
       " '82277.': -0.2029580812135012,\n",
       " '82277.unsub': -0.11154768748143404,\n",
       " '82324.': 0.0,\n",
       " '82468': 0.0,\n",
       " '83039': -0.1842418874703678,\n",
       " '83049.': -0.21690537441868296,\n",
       " '83118': -0.1093383170922612,\n",
       " '83222': -0.3913932866822262,\n",
       " '83332.please': -0.013289561926899377,\n",
       " '83355': 0.0,\n",
       " '83370.': 0.0,\n",
       " '83383': -0.1313446325053905,\n",
       " '83383.': -0.18695394625546427,\n",
       " '83435.': -0.03332383501740026,\n",
       " '83600': -0.27983715713968826,\n",
       " '83600.': -0.25895353348948924,\n",
       " '83738.': -0.24237049015413928,\n",
       " '84': -0.005802684790741829,\n",
       " '84025': -0.23132667236957627,\n",
       " '84122': -0.2529577641994368,\n",
       " '84128': -0.08820065550268423,\n",
       " '84199': 0.0,\n",
       " '85': -0.2477019847731531,\n",
       " '85.': -0.2477019847731531,\n",
       " '850.': 0.0,\n",
       " '85023': 0.0,\n",
       " '85069': -0.24351313371159022,\n",
       " '85222': -0.005802684790741829,\n",
       " '85233': 0.0,\n",
       " '8552': -0.3840773014595289,\n",
       " '85555': -0.040550973203039915,\n",
       " '86021': -0.1698328457882703,\n",
       " '861': -0.2477019847731531,\n",
       " '864233.': -0.2293562297594682,\n",
       " '86688': -0.6939368377220047,\n",
       " '86888': 0.0,\n",
       " '87021': -0.10993711564481759,\n",
       " '87066': -0.27203019796942385,\n",
       " '87070': 0.0,\n",
       " '87077': -0.5747144430692334,\n",
       " '87121': -0.0688941605917212,\n",
       " '87131': 0.0,\n",
       " '87131.': -0.3086230947882252,\n",
       " '8714714': -0.18722958965042436,\n",
       " '87239': -0.29273552409575926,\n",
       " '87575': 0.0,\n",
       " '87575.': 0.0,\n",
       " '8800': -0.18565474210588614,\n",
       " '88039': -0.17845127672775327,\n",
       " '88039.skilgme.tscs087147403231winawk': -0.049237135637609515,\n",
       " '88066': -1.3215727193777032,\n",
       " '88088': -0.20461880409662458,\n",
       " '88222': 0.0,\n",
       " '88600': -0.01855412130743284,\n",
       " '88800': -0.4328789042555433,\n",
       " '88888': -0.15188411413252897,\n",
       " '89034': -0.4328789042555433,\n",
       " '89070': 0.0,\n",
       " '89080': -0.23641943745921576,\n",
       " '89105.': 0.0,\n",
       " '89123': -0.2114552577559579,\n",
       " '89545': -0.03831598735980006,\n",
       " '89555': -0.1467277385882158,\n",
       " '89555.': -0.22008859385137222,\n",
       " '89693': 0.0,\n",
       " '8am': 0.0,\n",
       " '8lb': 0.0,\n",
       " '8pm': -0.23656895786013524,\n",
       " '8th': 0.10572059680311158,\n",
       " '8wp': 0.0,\n",
       " '9': 0.012328608573162392,\n",
       " '9+2+4=': 0.0,\n",
       " '9-6': 0.0,\n",
       " '9.': 0.015017322115283945,\n",
       " '9.decent': 0.0,\n",
       " '9.funny': 0.0,\n",
       " '900': 0.07075862450772785,\n",
       " '9153.': -0.087716716794346,\n",
       " '930': 0.0,\n",
       " '945+': 0.0,\n",
       " '946': -0.44366957204902774,\n",
       " '95/pax': 0.07382009255479959,\n",
       " '97n7qp': 0.0,\n",
       " '9996.': 0.0,\n",
       " '9ae': -0.26259952059156183,\n",
       " '9am': 0.07382009255479959,\n",
       " '9am-11pm': 0.0,\n",
       " '9ja': 0.0,\n",
       " '9pm': 0.0034239108240762197,\n",
       " '9t': 0.026403623618313832,\n",
       " '9th': -0.20692393160278907,\n",
       " ':': -0.28911725807646294,\n",
       " ';': 1.3400354425894703,\n",
       " '<': -0.22041636133050074,\n",
       " '=': 0.0,\n",
       " '=/': 0.0,\n",
       " '=d': 0.0,\n",
       " '=twelve': 0.0,\n",
       " '>': -1.006314100902563,\n",
       " '?': 0.5473020898760586,\n",
       " '@': -0.8274400874227057,\n",
       " '[': -0.13464679526172513,\n",
       " '\\\\': 0.6264858863234944,\n",
       " '\\\\3000': 0.0,\n",
       " '\\\\a': 0.06593153898659865,\n",
       " '\\\\adp\\\\': -0.24719048969171498,\n",
       " '\\\\ah': 0.003199292935024666,\n",
       " '\\\\alright': 0.19439834393820973,\n",
       " '\\\\alrite': 0.0,\n",
       " '\\\\are': 0.0,\n",
       " '\\\\aww': 0.024164950839140956,\n",
       " ...}"
      ]
     },
     "execution_count": 179,
     "metadata": {},
     "output_type": "execute_result"
    }
   ],
   "source": [
    "names_coefs"
   ]
  },
  {
   "cell_type": "code",
   "execution_count": 183,
   "metadata": {},
   "outputs": [],
   "source": [
    "# find top 30 feature names based on absolute value of coef\n",
    "\n",
    "# create a placeholder list to hold most important feature names\n",
    "top_feat_names = []\n",
    "top_coefs = []\n",
    "\n",
    "# sort the dictionary's items\n",
    "sort_names = sorted(names_coefs.items(), key=lambda x: x[1])\n",
    "\n",
    "# get top 10 and bottom 10 feature names\n",
    "for name, coef in sort_names[:10]:\n",
    "    top_feat_names.append(name)\n",
    "    top_coefs.append(coef)\n",
    "    \n",
    "for name, coef in sort_names[-11:]:\n",
    "    top_feat_names.append(name)\n",
    "    top_coefs.append(coef)\n",
    "    "
   ]
  },
  {
   "cell_type": "code",
   "execution_count": 187,
   "metadata": {},
   "outputs": [
    {
     "data": {
      "image/png": "[encoded data removed]",
      "text/plain": [
       "<Figure size 1080x360 with 1 Axes>"
      ]
     },
     "metadata": {
      "needs_background": "light"
     },
     "output_type": "display_data"
    }
   ],
   "source": [
    "# plot the coefficients with the feature names\n",
    "plt.figure(figsize=(15, 5))\n",
    "# use dictionary to find coefficients\n",
    "plt.bar(top_feat_names, top_coefs)\n",
    "plt.title(\"Feature importances\")\n",
    "plt.show()"
   ]
  },
  {
   "cell_type": "markdown",
   "metadata": {},
   "source": [
    "The higher the value of the bar in the graph, the higher the likelihood it is a real text, and vice-versa. It seems that the word \"sir\" is an indicator of a real text. I doubt anyone would have guessed that if it weren't for the analysis. We can see here that alot of spam messages contain a hyperlink."
   ]
  }
 ],
 "metadata": {
  "kernelspec": {
   "display_name": "Python 3",
   "language": "python",
   "name": "python3"
  },
  "language_info": {
   "codemirror_mode": {
    "name": "ipython",
    "version": 3
   },
   "file_extension": ".py",
   "mimetype": "text/x-python",
   "name": "python",
   "nbconvert_exporter": "python",
   "pygments_lexer": "ipython3",
   "version": "3.7.3"
  }
 },
 "nbformat": 4,
 "nbformat_minor": 2
}
